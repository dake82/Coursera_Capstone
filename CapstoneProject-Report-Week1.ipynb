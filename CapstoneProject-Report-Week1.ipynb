{
 "cells": [
  {
   "cell_type": "markdown",
   "metadata": {},
   "source": [
    "# Capstone Project"
   ]
  },
  {
   "cell_type": "markdown",
   "metadata": {},
   "source": [
    "## Introduction"
   ]
  },
  {
   "cell_type": "markdown",
   "metadata": {},
   "source": [
    "A family living in the center of Düsseldorf, Germany would like to move to the outskirts of the City and needs to evaluate which neighborhood will provide them similar venues. \n",
    "\n",
    "For this they contacted a friend, who is currently studying the Data Science specialization, with the hope she can provide them of some ideas of where to start looking. \n",
    "\n",
    "Once she understood the problem. She remembered she had a module on Foursquare, where they employed K-means to cluster neighborhoods for Manhathan and Toronto. She started to look at the exercises of for that course and came up with the following results."
   ]
  },
  {
   "cell_type": "markdown",
   "metadata": {},
   "source": [
    "## Data requirements"
   ]
  },
  {
   "cell_type": "markdown",
   "metadata": {},
   "source": [
    "The data requirements to solve this problem will be the neighborhoods from Düsseldorf, latitude and longitude and the zip codes known as \"Postleitzahl\".\n",
    "For this our data scientist found the required information in this web site: http://postleitzahlen.woxikon.de/plz/duesseldorf\n",
    "\n",
    "She needed to use the package BeatifulSoup to scrap the information. Then she changed the column names and save it as dataframe:"
   ]
  },
  {
   "cell_type": "code",
   "execution_count": 20,
   "metadata": {},
   "outputs": [
    {
     "name": "stdout",
     "output_type": "stream",
     "text": [
      "(3079, 3)\n"
     ]
    },
    {
     "data": {
      "text/html": [
       "<div>\n",
       "<style scoped>\n",
       "    .dataframe tbody tr th:only-of-type {\n",
       "        vertical-align: middle;\n",
       "    }\n",
       "\n",
       "    .dataframe tbody tr th {\n",
       "        vertical-align: top;\n",
       "    }\n",
       "\n",
       "    .dataframe thead th {\n",
       "        text-align: right;\n",
       "    }\n",
       "</style>\n",
       "<table border=\"1\" class=\"dataframe\">\n",
       "  <thead>\n",
       "    <tr style=\"text-align: right;\">\n",
       "      <th></th>\n",
       "      <th>Postalcode</th>\n",
       "      <th>District</th>\n",
       "      <th>Street</th>\n",
       "    </tr>\n",
       "  </thead>\n",
       "  <tbody>\n",
       "    <tr>\n",
       "      <th>0</th>\n",
       "      <td>40210</td>\n",
       "      <td>Düsseldorf Stadtmitte</td>\n",
       "      <td>Oststr.</td>\n",
       "    </tr>\n",
       "    <tr>\n",
       "      <th>1</th>\n",
       "      <td>40210</td>\n",
       "      <td>Düsseldorf Stadtmitte</td>\n",
       "      <td>Steinstr.</td>\n",
       "    </tr>\n",
       "    <tr>\n",
       "      <th>2</th>\n",
       "      <td>40210</td>\n",
       "      <td>Düsseldorf Stadtmitte</td>\n",
       "      <td>Oststr.</td>\n",
       "    </tr>\n",
       "    <tr>\n",
       "      <th>3</th>\n",
       "      <td>40210</td>\n",
       "      <td>Düsseldorf Stadtmitte</td>\n",
       "      <td>Marienstr.</td>\n",
       "    </tr>\n",
       "    <tr>\n",
       "      <th>4</th>\n",
       "      <td>40210</td>\n",
       "      <td>Düsseldorf Stadtmitte</td>\n",
       "      <td>Platz der Deutschen Einheit</td>\n",
       "    </tr>\n",
       "  </tbody>\n",
       "</table>\n",
       "</div>"
      ],
      "text/plain": [
       "   Postalcode               District                       Street\n",
       "0       40210  Düsseldorf Stadtmitte                      Oststr.\n",
       "1       40210  Düsseldorf Stadtmitte                    Steinstr.\n",
       "2       40210  Düsseldorf Stadtmitte                      Oststr.\n",
       "3       40210  Düsseldorf Stadtmitte                   Marienstr.\n",
       "4       40210  Düsseldorf Stadtmitte  Platz der Deutschen Einheit"
      ]
     },
     "execution_count": 20,
     "metadata": {},
     "output_type": "execute_result"
    }
   ],
   "source": [
    "import pandas as pd\n",
    "import requests\n",
    "from bs4 import BeautifulSoup\n",
    "\n",
    "res = requests.get(\"http://postleitzahlen.woxikon.de/plz/duesseldorf\")\n",
    "soup = BeautifulSoup(res.content,'lxml')\n",
    "table = soup.find_all('table')[0] \n",
    "df = pd.read_html(str(table))[0]\n",
    "\n",
    "df.columns = ['Postalcode','District','Street']\n",
    "print(df.shape)\n",
    "df.to_csv('df.csv')\n",
    "df.head()"
   ]
  },
  {
   "cell_type": "markdown",
   "metadata": {},
   "source": [
    "To get the Latitude and Longitude, the dataframe was uploaded to this service provider: https://csv2geo.com/\n",
    "\n",
    "Once the csv file was ready with the Latitude and Longitude coordinates. The data was imported to this notebook. Duplicates where removed and "
   ]
  },
  {
   "cell_type": "code",
   "execution_count": 16,
   "metadata": {},
   "outputs": [
    {
     "name": "stdout",
     "output_type": "stream",
     "text": [
      "(2124, 5)\n"
     ]
    },
    {
     "data": {
      "text/html": [
       "<div>\n",
       "<style scoped>\n",
       "    .dataframe tbody tr th:only-of-type {\n",
       "        vertical-align: middle;\n",
       "    }\n",
       "\n",
       "    .dataframe tbody tr th {\n",
       "        vertical-align: top;\n",
       "    }\n",
       "\n",
       "    .dataframe thead th {\n",
       "        text-align: right;\n",
       "    }\n",
       "</style>\n",
       "<table border=\"1\" class=\"dataframe\">\n",
       "  <thead>\n",
       "    <tr style=\"text-align: right;\">\n",
       "      <th></th>\n",
       "      <th>PostalCode</th>\n",
       "      <th>District</th>\n",
       "      <th>Street</th>\n",
       "      <th>Latitude</th>\n",
       "      <th>Longitude</th>\n",
       "    </tr>\n",
       "  </thead>\n",
       "  <tbody>\n",
       "    <tr>\n",
       "      <th>0</th>\n",
       "      <td>40210</td>\n",
       "      <td>Düsseldorf Stadtmitte</td>\n",
       "      <td>Oststr.</td>\n",
       "      <td>51.22191</td>\n",
       "      <td>6.78580</td>\n",
       "    </tr>\n",
       "    <tr>\n",
       "      <th>1</th>\n",
       "      <td>40210</td>\n",
       "      <td>Düsseldorf Stadtmitte</td>\n",
       "      <td>Steinstr.</td>\n",
       "      <td>51.22300</td>\n",
       "      <td>6.78467</td>\n",
       "    </tr>\n",
       "    <tr>\n",
       "      <th>2</th>\n",
       "      <td>40210</td>\n",
       "      <td>Düsseldorf Stadtmitte</td>\n",
       "      <td>Marienstr.</td>\n",
       "      <td>51.22371</td>\n",
       "      <td>6.78631</td>\n",
       "    </tr>\n",
       "    <tr>\n",
       "      <th>3</th>\n",
       "      <td>40210</td>\n",
       "      <td>Düsseldorf Stadtmitte</td>\n",
       "      <td>Platz der Deutschen Einheit</td>\n",
       "      <td>51.22329</td>\n",
       "      <td>6.78351</td>\n",
       "    </tr>\n",
       "    <tr>\n",
       "      <th>4</th>\n",
       "      <td>40210</td>\n",
       "      <td>Düsseldorf Stadtmitte</td>\n",
       "      <td>Stresemannplatz</td>\n",
       "      <td>51.21922</td>\n",
       "      <td>6.78800</td>\n",
       "    </tr>\n",
       "  </tbody>\n",
       "</table>\n",
       "</div>"
      ],
      "text/plain": [
       "   PostalCode               District                       Street  Latitude  \\\n",
       "0       40210  Düsseldorf Stadtmitte                      Oststr.  51.22191   \n",
       "1       40210  Düsseldorf Stadtmitte                    Steinstr.  51.22300   \n",
       "2       40210  Düsseldorf Stadtmitte                   Marienstr.  51.22371   \n",
       "3       40210  Düsseldorf Stadtmitte  Platz der Deutschen Einheit  51.22329   \n",
       "4       40210  Düsseldorf Stadtmitte              Stresemannplatz  51.21922   \n",
       "\n",
       "   Longitude  \n",
       "0    6.78580  \n",
       "1    6.78467  \n",
       "2    6.78631  \n",
       "3    6.78351  \n",
       "4    6.78800  "
      ]
     },
     "execution_count": 16,
     "metadata": {},
     "output_type": "execute_result"
    }
   ],
   "source": [
    "df_dus=pd.read_csv('dus_lat_long.csv',sep=',')\n",
    "df_dus=df_dus[['PostalCode','District','Street','Latitude','Longitude']]\n",
    "df_dus=df_dus.drop_duplicates(['Street'])\n",
    "df_dus=df_dus.drop_duplicates(['Latitude'])\n",
    "df_dus=df_dus.drop_duplicates(['Longitude'])\n",
    "print(df_dus.shape)\n",
    "df_dus.head()"
   ]
  },
  {
   "cell_type": "markdown",
   "metadata": {},
   "source": [
    "Since they can be many Street in one District, Streets where grouped and the average Latitude and Longitude for each District where calculated."
   ]
  },
  {
   "cell_type": "code",
   "execution_count": null,
   "metadata": {},
   "outputs": [],
   "source": [
    "df_dus1=df_dus.groupby(['PostalCode','District'])['Street'].apply(lambda x: ','.join(x)).reset_index()\n",
    "df_dus2=df_dus.groupby(['PostalCode','District'])['Latitude','Longitude'].mean().reset_index()"
   ]
  },
  {
   "cell_type": "markdown",
   "metadata": {},
   "source": [
    "Then the name of Street column was changed to Neighborhood, the order of the columns where arranged."
   ]
  },
  {
   "cell_type": "code",
   "execution_count": 23,
   "metadata": {},
   "outputs": [
    {
     "name": "stdout",
     "output_type": "stream",
     "text": [
      "(107, 5)\n"
     ]
    },
    {
     "data": {
      "text/html": [
       "<div>\n",
       "<style scoped>\n",
       "    .dataframe tbody tr th:only-of-type {\n",
       "        vertical-align: middle;\n",
       "    }\n",
       "\n",
       "    .dataframe tbody tr th {\n",
       "        vertical-align: top;\n",
       "    }\n",
       "\n",
       "    .dataframe thead th {\n",
       "        text-align: right;\n",
       "    }\n",
       "</style>\n",
       "<table border=\"1\" class=\"dataframe\">\n",
       "  <thead>\n",
       "    <tr style=\"text-align: right;\">\n",
       "      <th></th>\n",
       "      <th>PostalCode</th>\n",
       "      <th>District</th>\n",
       "      <th>Neighborhood</th>\n",
       "      <th>Latitude</th>\n",
       "      <th>Longitude</th>\n",
       "    </tr>\n",
       "  </thead>\n",
       "  <tbody>\n",
       "    <tr>\n",
       "      <th>0</th>\n",
       "      <td>40210</td>\n",
       "      <td>Düsseldorf Stadtmitte</td>\n",
       "      <td>Oststr.,Steinstr.,Marienstr.,Platz der Deutsch...</td>\n",
       "      <td>51.221643</td>\n",
       "      <td>6.788295</td>\n",
       "    </tr>\n",
       "    <tr>\n",
       "      <th>1</th>\n",
       "      <td>40211</td>\n",
       "      <td>Düsseldorf Pempelfort</td>\n",
       "      <td>Malkastenstr.,Louise-Dumont-Str.,Wielandstr.,C...</td>\n",
       "      <td>51.230667</td>\n",
       "      <td>6.791758</td>\n",
       "    </tr>\n",
       "    <tr>\n",
       "      <th>2</th>\n",
       "      <td>40211</td>\n",
       "      <td>Düsseldorf Stadtmitte</td>\n",
       "      <td>Liesegangstr.,Leopoldstr.,Kölner Str.,Kurfürst...</td>\n",
       "      <td>51.226600</td>\n",
       "      <td>6.789675</td>\n",
       "    </tr>\n",
       "    <tr>\n",
       "      <th>3</th>\n",
       "      <td>40212</td>\n",
       "      <td>Düsseldorf Stadtmitte</td>\n",
       "      <td>Wagnerstr.,Josephinenstr.,Königsallee,Königstr...</td>\n",
       "      <td>51.224387</td>\n",
       "      <td>6.781410</td>\n",
       "    </tr>\n",
       "    <tr>\n",
       "      <th>4</th>\n",
       "      <td>40213</td>\n",
       "      <td>Düsseldorf Altstadt</td>\n",
       "      <td>Flinger Str.,Hunsrückenstr.,Altestadt,Andreass...</td>\n",
       "      <td>51.227703</td>\n",
       "      <td>6.773738</td>\n",
       "    </tr>\n",
       "  </tbody>\n",
       "</table>\n",
       "</div>"
      ],
      "text/plain": [
       "   PostalCode               District  \\\n",
       "0       40210  Düsseldorf Stadtmitte   \n",
       "1       40211  Düsseldorf Pempelfort   \n",
       "2       40211  Düsseldorf Stadtmitte   \n",
       "3       40212  Düsseldorf Stadtmitte   \n",
       "4       40213    Düsseldorf Altstadt   \n",
       "\n",
       "                                        Neighborhood   Latitude  Longitude  \n",
       "0  Oststr.,Steinstr.,Marienstr.,Platz der Deutsch...  51.221643   6.788295  \n",
       "1  Malkastenstr.,Louise-Dumont-Str.,Wielandstr.,C...  51.230667   6.791758  \n",
       "2  Liesegangstr.,Leopoldstr.,Kölner Str.,Kurfürst...  51.226600   6.789675  \n",
       "3  Wagnerstr.,Josephinenstr.,Königsallee,Königstr...  51.224387   6.781410  \n",
       "4  Flinger Str.,Hunsrückenstr.,Altestadt,Andreass...  51.227703   6.773738  "
      ]
     },
     "execution_count": 23,
     "metadata": {},
     "output_type": "execute_result"
    }
   ],
   "source": [
    "df_dus2['Neighborhood']=df_dus1['Street']\n",
    "df_dus2=df_dus2[['PostalCode','District','Neighborhood','Latitude','Longitude']]\n",
    "df_dus2=df_dus2.drop_duplicates(['Latitude'])\n",
    "df_dus2=df_dus2.drop_duplicates(['Longitude'])\n",
    "print(df_dus2.shape)\n",
    "df_dus2.head()"
   ]
  }
 ],
 "metadata": {
  "kernelspec": {
   "display_name": "Python 3",
   "language": "python",
   "name": "python3"
  },
  "language_info": {
   "codemirror_mode": {
    "name": "ipython",
    "version": 3
   },
   "file_extension": ".py",
   "mimetype": "text/x-python",
   "name": "python",
   "nbconvert_exporter": "python",
   "pygments_lexer": "ipython3",
   "version": "3.6.6"
  }
 },
 "nbformat": 4,
 "nbformat_minor": 2
}
